{
 "cells": [
  {
   "cell_type": "markdown",
   "metadata": {},
   "source": [
    "# Write your own GNN module\n",
    "\n",
    "This tutorial assumes that you already know [the basics of training a GNN for node classification](1_introduction.ipynb).  However, sometimes you would like to invent a new way of aggregating neighbor information or using the aggregation.\n",
    "\n",
    "By the end of this tutorial you will be able to\n",
    "\n",
    "* Understand DGL's message passing APIs.\n",
    "* Implement GraphSAGE convolution module by your own."
   ]
  },
  {
   "cell_type": "code",
   "execution_count": 1,
   "metadata": {},
   "outputs": [
    {
     "name": "stderr",
     "output_type": "stream",
     "text": [
      "Using backend: pytorch\n"
     ]
    }
   ],
   "source": [
    "import dgl\n",
    "import torch\n",
    "import torch.nn as nn\n",
    "import torch.nn.functional as F"
   ]
  },
  {
   "cell_type": "markdown",
   "metadata": {},
   "source": [
    "This tutorial assumes that you already know the pipeline of full-graph node classification.  If not, please refer to the [introduction](1_introduction.ipynb).\n",
    "\n",
    "The following code for data loading and training loop is directly copied from the introduction tutorial."
   ]
  },
  {
   "cell_type": "code",
   "execution_count": 2,
   "metadata": {},
   "outputs": [
    {
     "name": "stdout",
     "output_type": "stream",
     "text": [
      "Loading from cache failed, re-processing.\n",
      "Finished data loading and preprocessing.\n",
      "  NumNodes: 2708\n",
      "  NumEdges: 10556\n",
      "  NumFeats: 1433\n",
      "  NumClasses: 7\n",
      "  NumTrainingSamples: 140\n",
      "  NumValidationSamples: 500\n",
      "  NumTestSamples: 1000\n",
      "Done saving data into cached files.\n"
     ]
    }
   ],
   "source": [
    "import dgl.data\n",
    "\n",
    "dataset = dgl.data.CoraGraphDataset()\n",
    "g = dataset[0]\n",
    "\n",
    "def train(g, net):\n",
    "    optimizer = torch.optim.Adam(net.parameters(), lr=0.01)\n",
    "    all_logits = []\n",
    "    best_val_acc = 0\n",
    "    best_test_acc = 0\n",
    "\n",
    "    features = g.ndata['feat']\n",
    "    labels = g.ndata['label']\n",
    "    train_mask = g.ndata['train_mask']\n",
    "    val_mask = g.ndata['val_mask']\n",
    "    test_mask = g.ndata['test_mask']\n",
    "    for e in range(200):\n",
    "        # Forward\n",
    "        logits = net(g, features)\n",
    "\n",
    "        # Compute prediction\n",
    "        pred = logits.argmax(1)\n",
    "\n",
    "        # Compute loss\n",
    "        # Note that we should only compute the losses of the nodes in the training set,\n",
    "        # i.e. with train_mask 1.\n",
    "        loss = F.cross_entropy(logits[train_mask], labels[train_mask])\n",
    "\n",
    "        # Compute accuracy on training/validation/test\n",
    "        train_acc = (pred[train_mask] == labels[train_mask]).float().mean()\n",
    "        val_acc = (pred[val_mask] == labels[val_mask]).float().mean()\n",
    "        test_acc = (pred[test_mask] == labels[test_mask]).float().mean()\n",
    "\n",
    "        # Save the best validation accuracy and the corresponding test accuracy.\n",
    "        if best_val_acc < val_acc:\n",
    "            best_val_acc = val_acc\n",
    "            best_test_acc = test_acc\n",
    "\n",
    "        # Backward\n",
    "        optimizer.zero_grad()\n",
    "        loss.backward()\n",
    "        optimizer.step()\n",
    "        all_logits.append(logits.detach())\n",
    "\n",
    "        if e % 5 == 0:\n",
    "            print('In epoch {}, loss: {:.3f}, val acc: {:.3f} (best {:.3f}), test acc: {:.3f} (best {:.3f})'.format(\n",
    "                e, loss, val_acc, best_val_acc, test_acc, best_test_acc))"
   ]
  },
  {
   "cell_type": "markdown",
   "metadata": {},
   "source": [
    "## Message passing and GNNs\n",
    "\n",
    "DGL follows the *message passing paradigm* inspired by the Message Passing Neural Network proposed by [Gilmer et al.](https://arxiv.org/abs/1704.01212) Essentially, they found many GNN models can fit into the following framework:\n",
    "\n",
    "$$\n",
    "m_{u\\to v}^{(l)} = M^{(l)}\\left(h_v^{(l-1)}, h_u^{(l-1)}, e_{u\\to v}^{(l-1)}\\right)\n",
    "$$\n",
    "\n",
    "$$\n",
    "m_{v}^{(l)} = \\sum_{u\\in\\mathcal{N}(v)}m_{u\\to v}^{(l)}\n",
    "$$\n",
    "\n",
    "$$\n",
    "h_v^{(l)} = U^{(l)}\\left(h_v^{(l-1)}, m_v^{(l)}\\right)\n",
    "$$\n",
    "\n",
    "where DGL calls $M^{(l)}$ the *message function*, $\\sum$ the *reduce function* and $U^{(l)}$ the *update function*.  Note that $\\sum$ here can represent any function and is not necessarily a summation."
   ]
  },
  {
   "cell_type": "markdown",
   "metadata": {},
   "source": [
    "For example, the [GraphSAGE convolution (Hamilton et al., 2017)](https://cs.stanford.edu/people/jure/pubs/graphsage-nips17.pdf) takes the following mathematical form:\n",
    "\n",
    "$$\n",
    "h_{\\mathcal{N}(v)}^k\\leftarrow \\text{Average}\\{h_u^{k-1},\\forall u\\in\\mathcal{N}(v)\\}\n",
    "$$\n",
    "\n",
    "$$\n",
    "h_v^k\\leftarrow \\text{ReLU}\\left(W^k\\cdot \\text{CONCAT}(h_v^{k-1}, h_{\\mathcal{N}(v)}^k) \\right)\n",
    "$$\n",
    "\n",
    "You can see that message passing is directional: the message sent from one node $u$ to other node $v$ is not necessarily the same as the other message sent from node $v$ to node $u$ in the opposite direction.\n",
    "\n",
    "Although DGL has builtin support of GraphSAGE via [`dgl.nn.SAGEConv`](https://docs.dgl.ai/api/python/nn.pytorch.html#sageconv), here is how you can implement GraphSAGE convolution in DGL by your own."
   ]
  },
  {
   "cell_type": "code",
   "execution_count": 3,
   "metadata": {},
   "outputs": [],
   "source": [
    "import dgl.function as fn\n",
    "\n",
    "class SAGEConv(nn.Module):\n",
    "    \"\"\"Graph convolution module used by the GraphSAGE model.\n",
    "    \n",
    "    Parameters\n",
    "    ----------\n",
    "    in_feat : int\n",
    "        Input feature size.\n",
    "    out_feat : int\n",
    "        Output feature size.\n",
    "    \"\"\"\n",
    "    def __init__(self, in_feat, out_feat):\n",
    "        super(SAGEConv, self).__init__()\n",
    "        # A linear submodule for projecting the input and neighbor feature to the output.\n",
    "        self.linear = nn.Linear(in_feat * 2, out_feat)\n",
    "    \n",
    "    def forward(self, g, h):\n",
    "        \"\"\"Forward computation\n",
    "        \n",
    "        Parameters\n",
    "        ----------\n",
    "        g : Graph\n",
    "            The input graph.\n",
    "        h : Tensor\n",
    "            The input node feature.\n",
    "        \"\"\"\n",
    "        with g.local_scope():\n",
    "            g.ndata['h'] = h\n",
    "            # update_all is a message passing API.\n",
    "            g.update_all(message_func=fn.copy_u('h', 'm'), reduce_func=fn.mean('m', 'h_N'))\n",
    "            h_neigh = g.ndata['h_N']\n",
    "            h_total = torch.cat([h, h_neigh], dim=1)\n",
    "            return self.linear(h_total)"
   ]
  },
  {
   "cell_type": "markdown",
   "metadata": {},
   "source": [
    "The central piece in this code is the [`g.update_all`](https://docs.dgl.ai/generated/dgl.DGLGraph.update_all.html#dgl.DGLGraph.update_all) function, which gathers and averages the neighbor features. There are three concepts here:\n",
    "* Message function `fn.copy_u('h', 'm')` that copies the node feature under name `'h'` as *messages* sent to neighbors.\n",
    "* Reduce function `fn.mean('m', 'h_neigh')` that averages all the received messages under name `'m'` and saves the result as a new node feature `'h_N'`.\n",
    "* `update_all` tells DGL to trigger the message and reduce functions for all the nodes and edges."
   ]
  },
  {
   "cell_type": "markdown",
   "metadata": {},
   "source": [
    "Afterwards, you can stack your own GraphSAGE convolution layers to form a multi-layer GraphSAGE network.\n",
    "\n",
    "<div class=\"alert alert-info\">\n",
    "    <b>Note</b>: the GraphSAGE model here is only a demonstration of how you could write a neural network module; the hyperparameters and architecture choices are not tuned so the performance here may be inferior to what the paper actually reported.  For an accurate reproduction, please refer to <a href=https://github.com/dmlc/dgl/blob/master/examples/pytorch/graphsage/train_full.py>our example</a>.\n",
    "</div>"
   ]
  },
  {
   "cell_type": "code",
   "execution_count": 4,
   "metadata": {},
   "outputs": [
    {
     "name": "stdout",
     "output_type": "stream",
     "text": [
      "In epoch 0, loss: 1.949, val acc: 0.058 (best 0.058), test acc: 0.072 (best 0.072)\n",
      "In epoch 5, loss: 1.879, val acc: 0.394 (best 0.394), test acc: 0.381 (best 0.381)\n",
      "In epoch 10, loss: 1.747, val acc: 0.600 (best 0.660), test acc: 0.593 (best 0.647)\n",
      "In epoch 15, loss: 1.542, val acc: 0.606 (best 0.660), test acc: 0.601 (best 0.647)\n",
      "In epoch 20, loss: 1.270, val acc: 0.656 (best 0.660), test acc: 0.652 (best 0.647)\n",
      "In epoch 25, loss: 0.962, val acc: 0.700 (best 0.700), test acc: 0.695 (best 0.695)\n",
      "In epoch 30, loss: 0.662, val acc: 0.736 (best 0.736), test acc: 0.717 (best 0.717)\n",
      "In epoch 35, loss: 0.415, val acc: 0.758 (best 0.758), test acc: 0.748 (best 0.747)\n",
      "In epoch 40, loss: 0.244, val acc: 0.766 (best 0.768), test acc: 0.751 (best 0.748)\n",
      "In epoch 45, loss: 0.141, val acc: 0.766 (best 0.768), test acc: 0.761 (best 0.748)\n",
      "In epoch 50, loss: 0.083, val acc: 0.766 (best 0.768), test acc: 0.765 (best 0.748)\n",
      "In epoch 55, loss: 0.052, val acc: 0.768 (best 0.768), test acc: 0.764 (best 0.748)\n",
      "In epoch 60, loss: 0.035, val acc: 0.768 (best 0.770), test acc: 0.766 (best 0.765)\n",
      "In epoch 65, loss: 0.025, val acc: 0.766 (best 0.770), test acc: 0.770 (best 0.765)\n",
      "In epoch 70, loss: 0.019, val acc: 0.768 (best 0.770), test acc: 0.772 (best 0.765)\n",
      "In epoch 75, loss: 0.016, val acc: 0.766 (best 0.770), test acc: 0.771 (best 0.765)\n",
      "In epoch 80, loss: 0.013, val acc: 0.764 (best 0.770), test acc: 0.770 (best 0.765)\n",
      "In epoch 85, loss: 0.012, val acc: 0.760 (best 0.770), test acc: 0.768 (best 0.765)\n",
      "In epoch 90, loss: 0.010, val acc: 0.760 (best 0.770), test acc: 0.768 (best 0.765)\n",
      "In epoch 95, loss: 0.009, val acc: 0.760 (best 0.770), test acc: 0.768 (best 0.765)\n",
      "In epoch 100, loss: 0.008, val acc: 0.760 (best 0.770), test acc: 0.769 (best 0.765)\n",
      "In epoch 105, loss: 0.008, val acc: 0.760 (best 0.770), test acc: 0.768 (best 0.765)\n",
      "In epoch 110, loss: 0.007, val acc: 0.760 (best 0.770), test acc: 0.768 (best 0.765)\n",
      "In epoch 115, loss: 0.007, val acc: 0.760 (best 0.770), test acc: 0.768 (best 0.765)\n",
      "In epoch 120, loss: 0.006, val acc: 0.760 (best 0.770), test acc: 0.768 (best 0.765)\n",
      "In epoch 125, loss: 0.006, val acc: 0.758 (best 0.770), test acc: 0.768 (best 0.765)\n",
      "In epoch 130, loss: 0.005, val acc: 0.760 (best 0.770), test acc: 0.768 (best 0.765)\n",
      "In epoch 135, loss: 0.005, val acc: 0.760 (best 0.770), test acc: 0.768 (best 0.765)\n",
      "In epoch 140, loss: 0.005, val acc: 0.760 (best 0.770), test acc: 0.768 (best 0.765)\n",
      "In epoch 145, loss: 0.004, val acc: 0.760 (best 0.770), test acc: 0.769 (best 0.765)\n",
      "In epoch 150, loss: 0.004, val acc: 0.760 (best 0.770), test acc: 0.768 (best 0.765)\n",
      "In epoch 155, loss: 0.004, val acc: 0.760 (best 0.770), test acc: 0.768 (best 0.765)\n",
      "In epoch 160, loss: 0.004, val acc: 0.760 (best 0.770), test acc: 0.768 (best 0.765)\n",
      "In epoch 165, loss: 0.004, val acc: 0.760 (best 0.770), test acc: 0.768 (best 0.765)\n",
      "In epoch 170, loss: 0.003, val acc: 0.756 (best 0.770), test acc: 0.768 (best 0.765)\n",
      "In epoch 175, loss: 0.003, val acc: 0.758 (best 0.770), test acc: 0.768 (best 0.765)\n",
      "In epoch 180, loss: 0.003, val acc: 0.758 (best 0.770), test acc: 0.769 (best 0.765)\n",
      "In epoch 185, loss: 0.003, val acc: 0.758 (best 0.770), test acc: 0.769 (best 0.765)\n",
      "In epoch 190, loss: 0.003, val acc: 0.758 (best 0.770), test acc: 0.769 (best 0.765)\n",
      "In epoch 195, loss: 0.003, val acc: 0.758 (best 0.770), test acc: 0.769 (best 0.765)\n"
     ]
    }
   ],
   "source": [
    "class Model(nn.Module):\n",
    "    def __init__(self, in_feats, h_feats, num_classes):\n",
    "        super(Model, self).__init__()\n",
    "        self.conv1 = SAGEConv(in_feats, h_feats)\n",
    "        self.conv2 = SAGEConv(h_feats, num_classes)\n",
    "    \n",
    "    def forward(self, g, in_feat):\n",
    "        h = self.conv1(g, in_feat)\n",
    "        h = F.relu(h)\n",
    "        h = self.conv2(g, h)\n",
    "        return h\n",
    "    \n",
    "model = Model(g.ndata['feat'].shape[1], 16, dataset.num_classes)\n",
    "train(g, model)"
   ]
  },
  {
   "cell_type": "markdown",
   "metadata": {},
   "source": [
    "## More customization\n",
    "\n",
    "In DGL, we provide many built-in message and reduce functions under the `dgl.function` package.  You can find more details in [the API doc](https://docs.dgl.ai/api/python/function.html)."
   ]
  },
  {
   "cell_type": "markdown",
   "metadata": {},
   "source": [
    "These APIs allow one to quickly implement new graph convolution modules. For example, the following implements a new `SAGEConv` that aggregates neighbor representations using a weighted average.  Note that `edata` member can hold edge features which can also take part in message passing."
   ]
  },
  {
   "cell_type": "code",
   "execution_count": 5,
   "metadata": {},
   "outputs": [],
   "source": [
    "class WeightedSAGEConv(nn.Module):\n",
    "    \"\"\"Graph convolution module used by the GraphSAGE model with edge weights.\n",
    "    \n",
    "    Parameters\n",
    "    ----------\n",
    "    in_feat : int\n",
    "        Input feature size.\n",
    "    out_feat : int\n",
    "        Output feature size.\n",
    "    \"\"\"\n",
    "    def __init__(self, in_feat, out_feat):\n",
    "        super(WeightedSAGEConv, self).__init__()\n",
    "        # A linear submodule for projecting the input and neighbor feature to the output.\n",
    "        self.linear = nn.Linear(in_feat * 2, out_feat)\n",
    "    \n",
    "    def forward(self, g, h, w):\n",
    "        \"\"\"Forward computation\n",
    "        \n",
    "        Parameters\n",
    "        ----------\n",
    "        g : Graph\n",
    "            The input graph.\n",
    "        h : Tensor\n",
    "            The input node feature.\n",
    "        w : Tensor\n",
    "            The edge weight.\n",
    "        \"\"\"\n",
    "        with g.local_scope():\n",
    "            g.ndata['h'] = h\n",
    "            g.edata['w'] = w\n",
    "            g.update_all(message_func=fn.u_mul_e('h', 'w', 'm'), reduce_func=fn.mean('m', 'h_neigh'))\n",
    "            h_neigh = g.ndata['h_neigh']\n",
    "            h_total = torch.cat([h, h_neigh], dim=1)\n",
    "            return self.linear(h_total)"
   ]
  },
  {
   "cell_type": "markdown",
   "metadata": {},
   "source": [
    "Because the graph in this dataset does not have edge weights, we manually assign all edge weights to one in the `forward()` function of the model.  You can replace it with your own edge weights."
   ]
  },
  {
   "cell_type": "code",
   "execution_count": 6,
   "metadata": {},
   "outputs": [
    {
     "name": "stdout",
     "output_type": "stream",
     "text": [
      "In epoch 0, loss: 1.952, val acc: 0.114 (best 0.114), test acc: 0.103 (best 0.103)\n",
      "In epoch 5, loss: 1.877, val acc: 0.298 (best 0.298), test acc: 0.299 (best 0.299)\n",
      "In epoch 10, loss: 1.740, val acc: 0.458 (best 0.458), test acc: 0.452 (best 0.452)\n",
      "In epoch 15, loss: 1.534, val acc: 0.556 (best 0.556), test acc: 0.562 (best 0.562)\n",
      "In epoch 20, loss: 1.266, val acc: 0.616 (best 0.616), test acc: 0.624 (best 0.624)\n",
      "In epoch 25, loss: 0.962, val acc: 0.692 (best 0.692), test acc: 0.704 (best 0.704)\n",
      "In epoch 30, loss: 0.666, val acc: 0.712 (best 0.712), test acc: 0.728 (best 0.728)\n",
      "In epoch 35, loss: 0.423, val acc: 0.742 (best 0.742), test acc: 0.749 (best 0.749)\n",
      "In epoch 40, loss: 0.253, val acc: 0.740 (best 0.742), test acc: 0.765 (best 0.749)\n",
      "In epoch 45, loss: 0.149, val acc: 0.754 (best 0.754), test acc: 0.771 (best 0.771)\n",
      "In epoch 50, loss: 0.090, val acc: 0.754 (best 0.756), test acc: 0.777 (best 0.774)\n",
      "In epoch 55, loss: 0.057, val acc: 0.754 (best 0.756), test acc: 0.778 (best 0.774)\n",
      "In epoch 60, loss: 0.039, val acc: 0.754 (best 0.756), test acc: 0.775 (best 0.774)\n",
      "In epoch 65, loss: 0.028, val acc: 0.754 (best 0.756), test acc: 0.773 (best 0.774)\n",
      "In epoch 70, loss: 0.022, val acc: 0.762 (best 0.762), test acc: 0.772 (best 0.772)\n",
      "In epoch 75, loss: 0.018, val acc: 0.762 (best 0.762), test acc: 0.772 (best 0.772)\n",
      "In epoch 80, loss: 0.015, val acc: 0.760 (best 0.762), test acc: 0.775 (best 0.772)\n",
      "In epoch 85, loss: 0.013, val acc: 0.760 (best 0.762), test acc: 0.772 (best 0.772)\n",
      "In epoch 90, loss: 0.011, val acc: 0.760 (best 0.762), test acc: 0.769 (best 0.772)\n",
      "In epoch 95, loss: 0.010, val acc: 0.760 (best 0.762), test acc: 0.769 (best 0.772)\n",
      "In epoch 100, loss: 0.009, val acc: 0.762 (best 0.762), test acc: 0.770 (best 0.772)\n",
      "In epoch 105, loss: 0.008, val acc: 0.762 (best 0.762), test acc: 0.771 (best 0.772)\n",
      "In epoch 110, loss: 0.008, val acc: 0.762 (best 0.762), test acc: 0.771 (best 0.772)\n",
      "In epoch 115, loss: 0.007, val acc: 0.762 (best 0.762), test acc: 0.771 (best 0.772)\n",
      "In epoch 120, loss: 0.006, val acc: 0.760 (best 0.762), test acc: 0.771 (best 0.772)\n",
      "In epoch 125, loss: 0.006, val acc: 0.760 (best 0.762), test acc: 0.770 (best 0.772)\n",
      "In epoch 130, loss: 0.006, val acc: 0.760 (best 0.762), test acc: 0.771 (best 0.772)\n",
      "In epoch 135, loss: 0.005, val acc: 0.760 (best 0.762), test acc: 0.772 (best 0.772)\n",
      "In epoch 140, loss: 0.005, val acc: 0.762 (best 0.762), test acc: 0.773 (best 0.772)\n",
      "In epoch 145, loss: 0.005, val acc: 0.762 (best 0.762), test acc: 0.774 (best 0.772)\n",
      "In epoch 150, loss: 0.004, val acc: 0.764 (best 0.764), test acc: 0.774 (best 0.774)\n",
      "In epoch 155, loss: 0.004, val acc: 0.764 (best 0.764), test acc: 0.774 (best 0.774)\n",
      "In epoch 160, loss: 0.004, val acc: 0.764 (best 0.764), test acc: 0.774 (best 0.774)\n",
      "In epoch 165, loss: 0.004, val acc: 0.764 (best 0.764), test acc: 0.774 (best 0.774)\n",
      "In epoch 170, loss: 0.004, val acc: 0.766 (best 0.766), test acc: 0.774 (best 0.774)\n",
      "In epoch 175, loss: 0.003, val acc: 0.766 (best 0.766), test acc: 0.774 (best 0.774)\n",
      "In epoch 180, loss: 0.003, val acc: 0.766 (best 0.766), test acc: 0.774 (best 0.774)\n",
      "In epoch 185, loss: 0.003, val acc: 0.766 (best 0.766), test acc: 0.774 (best 0.774)\n",
      "In epoch 190, loss: 0.003, val acc: 0.766 (best 0.766), test acc: 0.774 (best 0.774)\n",
      "In epoch 195, loss: 0.003, val acc: 0.766 (best 0.766), test acc: 0.774 (best 0.774)\n"
     ]
    }
   ],
   "source": [
    "class Net(nn.Module):\n",
    "    def __init__(self, in_feats, h_feats, num_classes):\n",
    "        super(Net, self).__init__()\n",
    "        self.conv1 = WeightedSAGEConv(in_feats, h_feats)\n",
    "        self.conv2 = WeightedSAGEConv(h_feats, num_classes)\n",
    "    \n",
    "    def forward(self, g, in_feat):\n",
    "        h = self.conv1(g, in_feat, torch.ones(g.num_edges()).to(g.device))\n",
    "        h = F.relu(h)\n",
    "        h = self.conv2(g, h, torch.ones(g.num_edges()).to(g.device))\n",
    "        return h\n",
    "    \n",
    "net = Net(g.ndata['feat'].shape[1], 16, dataset.num_classes)\n",
    "train(g, net)"
   ]
  },
  {
   "cell_type": "markdown",
   "metadata": {},
   "source": [
    "## Even more customization by user-defined function\n",
    "\n",
    "DGL allows user-defined message and reduce function for the maximal expressiveness. Here is a user-defined message function that is equivalent to `fn.u_mul_e('h', 'w', 'm')`."
   ]
  },
  {
   "cell_type": "code",
   "execution_count": 7,
   "metadata": {},
   "outputs": [],
   "source": [
    "def u_mul_e_udf(edges):\n",
    "    return {'m' : edges.src['h'] * edges.data['w']}"
   ]
  },
  {
   "cell_type": "markdown",
   "metadata": {},
   "source": [
    "`edges` has three members: `src`, `data` and `dst`, representing the source node feature, edge feature, and destination node feature for all edges."
   ]
  },
  {
   "cell_type": "markdown",
   "metadata": {},
   "source": [
    "You can also write your own reduce function.  For example, the following is equivalent to the builtin `fn.sum('m', 'h')` function that sums up the incoming messages:"
   ]
  },
  {
   "cell_type": "code",
   "execution_count": 8,
   "metadata": {},
   "outputs": [],
   "source": [
    "def sum_udf(nodes):\n",
    "    return {'h': nodes.mailbox['m'].sum(1)}"
   ]
  },
  {
   "cell_type": "markdown",
   "metadata": {},
   "source": [
    "In short, DGL will group the nodes by their in-degrees, and for each group DGL stacks the incoming messages along the second dimension.  One can then perform a reduction along the second dimension to aggregate messages.\n",
    "\n",
    "For more details on customizing message and reduce function with user-defined function, please refer to the [API reference](https://docs.dgl.ai/api/python/udf.html#apiudf)."
   ]
  },
  {
   "cell_type": "markdown",
   "metadata": {},
   "source": [
    "## Best practice of writing custom GNN modules\n",
    "\n",
    "DGL recommends the following practice ranked by preference:\n",
    "\n",
    "* Use `dgl.nn` modules.\n",
    "* Use `dgl.nn.functional` functions which contain lower-level complex operations such as [computing a softmax for each node over incoming edges](https://TODO).\n",
    "* Use `update_all` with builtin message and reduce functions.\n",
    "* Use user-defined message or reduce functions."
   ]
  },
  {
   "cell_type": "markdown",
   "metadata": {},
   "source": [
    "## What's next?\n",
    "\n",
    "* If you would like to scale to large graph (please refer to [this tutorial](L1_large_node_classification.ipynb) first to get an idea of how large graph training works), you will need to [change your GNN module implementation accordingly](L4_message_passing.ipynb).\n",
    "* [Writing Efficient Message Passing Code](https://docs.dgl.ai/guide/message-efficient.html)"
   ]
  },
  {
   "cell_type": "code",
   "execution_count": null,
   "metadata": {},
   "outputs": [],
   "source": []
  }
 ],
 "metadata": {
  "kernelspec": {
   "display_name": "Python 3",
   "language": "python",
   "name": "python3"
  },
  "language_info": {
   "codemirror_mode": {
    "name": "ipython",
    "version": 3
   },
   "file_extension": ".py",
   "mimetype": "text/x-python",
   "name": "python",
   "nbconvert_exporter": "python",
   "pygments_lexer": "ipython3",
   "version": "3.7.4"
  }
 },
 "nbformat": 4,
 "nbformat_minor": 2
}
