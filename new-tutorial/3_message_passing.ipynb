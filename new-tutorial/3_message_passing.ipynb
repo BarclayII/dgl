{
 "cells": [
  {
   "cell_type": "markdown",
   "metadata": {},
   "source": [
    "# Write your own GNN module\n",
    "\n",
    "In [the introduction](1_introduction.ipynb), we have learned using the built-in [graph convolution modules](https://docs.dgl.ai/api/python/nn.pytorch.html#module-dgl.nn.pytorch.conv) to build a multi-layer graph neural network. However, sometimes one desires to invent a new way of aggregating neighbor information. DGL's message passing APIs are designed for this scenario.\n",
    "\n",
    "Goal of this tutorial:\n",
    "\n",
    "* Understand DGL's message passing APIs.\n",
    "* Implement GraphSAGE convolution by your own.\n",
    "* Implement Graph Attention Networks by your own."
   ]
  },
  {
   "cell_type": "code",
   "execution_count": 1,
   "metadata": {},
   "outputs": [
    {
     "name": "stderr",
     "output_type": "stream",
     "text": [
      "Using backend: pytorch\n"
     ]
    }
   ],
   "source": [
    "import dgl\n",
    "import torch\n",
    "import torch.nn as nn\n",
    "import torch.nn.functional as F"
   ]
  },
  {
   "cell_type": "markdown",
   "metadata": {},
   "source": [
    "This tutorial assumes that you already know the pipeline of full-graph node classification.  If not, please refer to the [introduction](1_introduction.ipynb).\n",
    "\n",
    "The following code for data loading and training loop is directly copied from the introduction tutorial."
   ]
  },
  {
   "cell_type": "code",
   "execution_count": 2,
   "metadata": {},
   "outputs": [
    {
     "name": "stdout",
     "output_type": "stream",
     "text": [
      "Loading from cache failed, re-processing.\n",
      "Finished data loading and preprocessing.\n",
      "  NumNodes: 2708\n",
      "  NumEdges: 10556\n",
      "  NumFeats: 1433\n",
      "  NumClasses: 7\n",
      "  NumTrainingSamples: 140\n",
      "  NumValidationSamples: 500\n",
      "  NumTestSamples: 1000\n",
      "Done saving data into cached files.\n"
     ]
    },
    {
     "name": "stderr",
     "output_type": "stream",
     "text": [
      "/home/gq/miniconda3/lib/python3.7/site-packages/scipy/sparse/lil.py:512: FutureWarning: future versions will not create a writeable array from broadcast_array. Set the writable flag explicitly to avoid this warning.\n",
      "  if not i.flags.writeable or i.dtype not in (np.int32, np.int64):\n",
      "/home/gq/miniconda3/lib/python3.7/site-packages/scipy/sparse/lil.py:514: FutureWarning: future versions will not create a writeable array from broadcast_array. Set the writable flag explicitly to avoid this warning.\n",
      "  if not j.flags.writeable or j.dtype not in (np.int32, np.int64):\n"
     ]
    }
   ],
   "source": [
    "import dgl.data\n",
    "\n",
    "dataset = dgl.data.CoraGraphDataset()\n",
    "g = dataset[0]\n",
    "\n",
    "def train(g, net):\n",
    "    optimizer = torch.optim.Adam(net.parameters(), lr=0.01)\n",
    "    all_logits = []\n",
    "    best_val_acc = 0\n",
    "    best_test_acc = 0\n",
    "\n",
    "    features = g.ndata['feat']\n",
    "    labels = g.ndata['label']\n",
    "    train_mask = g.ndata['train_mask']\n",
    "    val_mask = g.ndata['val_mask']\n",
    "    test_mask = g.ndata['test_mask']\n",
    "    for e in range(200):\n",
    "        # Forward\n",
    "        logits = net(g, features)\n",
    "\n",
    "        # Compute prediction\n",
    "        pred = logits.argmax(1)\n",
    "\n",
    "        # Compute loss\n",
    "        # Note that we should only compute the losses of the nodes in the training set,\n",
    "        # i.e. with train_mask 1.\n",
    "        loss = F.cross_entropy(logits[train_mask], labels[train_mask])\n",
    "\n",
    "        # Compute accuracy on training/validation/test\n",
    "        train_acc = (pred[train_mask] == labels[train_mask]).float().mean()\n",
    "        val_acc = (pred[val_mask] == labels[val_mask]).float().mean()\n",
    "        test_acc = (pred[test_mask] == labels[test_mask]).float().mean()\n",
    "\n",
    "        # Save the best validation accuracy and the corresponding test accuracy.\n",
    "        if best_val_acc < val_acc:\n",
    "            best_val_acc = val_acc\n",
    "            best_test_acc = test_acc\n",
    "\n",
    "        # Backward\n",
    "        optimizer.zero_grad()\n",
    "        loss.backward()\n",
    "        optimizer.step()\n",
    "        all_logits.append(logits.detach())\n",
    "\n",
    "        if e % 5 == 0:\n",
    "            print('In epoch {}, loss: {:.3f}, val acc: {:.3f} (best {:.3f}), test acc: {:.3f} (best {:.3f})'.format(\n",
    "                e, loss, val_acc, best_val_acc, test_acc, best_test_acc))"
   ]
  },
  {
   "cell_type": "markdown",
   "metadata": {},
   "source": [
    "## Message passing and GNNs\n",
    "\n",
    "DGL follows the *message passing paradigm* inspired by the Message Passing Neural Network proposed by [Gilmer et al.](https://arxiv.org/abs/1704.01212) Essentially, they found many GNN models can fit into the following framework:\n",
    "\n",
    "$$\n",
    "m_{u\\to v}^{(l)} = M^{(l)}\\left(h_v^{(l-1)}, h_u^{(l-1)}, e_{u\\to v}^{(l-1)}\\right)\n",
    "$$\n",
    "\n",
    "$$\n",
    "m_{v}^{(l)} = \\sum_{u\\in\\mathcal{N}(v)}m_{u\\to v}^{(l)}\n",
    "$$\n",
    "\n",
    "$$\n",
    "h_v^{(l)} = U^{(l)}\\left(h_v^{(l-1)}, m_v^{(l)}\\right)\n",
    "$$\n",
    "\n",
    "where DGL calls $M^{(l)}$ the *message function* and $\\sum$ the *reduce function*.  Note that $\\sum$ here can represent any function and is not necessarily a summation."
   ]
  },
  {
   "cell_type": "markdown",
   "metadata": {},
   "source": [
    "For example, the [GraphSAGE convolution (Hamilton et al., 2017)](https://cs.stanford.edu/people/jure/pubs/graphsage-nips17.pdf) takes the following mathematical form:\n",
    "\n",
    "$$\n",
    "h_{\\mathcal{N}(v)}^k\\leftarrow \\text{Average}\\{h_u^{k-1},\\forall u\\in\\mathcal{N}(v)\\}\n",
    "$$\n",
    "\n",
    "$$\n",
    "h_v^k\\leftarrow \\text{ReLU}\\left(W^k\\cdot \\text{CONCAT}(h_v^{k-1}, h_{\\mathcal{N}(v)}^k) \\right)\n",
    "$$\n",
    "\n",
    "You can see that message passing is directional: the message sent from one node $u$ to other node $v$ is not necessarily the same as the other message sent from node $v$ to node $u$ in the opposite direction.\n",
    "\n",
    "DGL graphs provide two members `srcdata` and `dstdata` for the purpose of message passing.  You first put the input node features in `srcdata`.  After you perform message passing, you can retrieve the result of message passing from `dstdata`.\n",
    "\n",
    "<div class=\"alert alert-info\">\n",
    "    <b>Note: </b>In full graph message passing, both the input nodes and the output nodes are the full node set.  Therefore, <code>srcdata</code> and <code>dstdata</code> in homogeneous graph (i.e. with only one node type and one edge type) are identical to <code>ndata</code>.  See <a href=H3_message_passing.ipynb>here (TODO)</a> for heterogeneous graph message passing.\n",
    "</div>\n",
    "\n",
    "Although DGL has builtin support of GraphSAGE via [`dgl.nn.SAGEConv`](https://docs.dgl.ai/api/python/nn.pytorch.html#sageconv), here is how you can implement GraphSAGE convolution in DGL by your own."
   ]
  },
  {
   "cell_type": "code",
   "execution_count": 3,
   "metadata": {},
   "outputs": [],
   "source": [
    "import dgl.function as fn\n",
    "\n",
    "class SAGEConv(nn.Module):\n",
    "    \"\"\"Graph convolution module used by the GraphSAGE model.\n",
    "    \n",
    "    Parameters\n",
    "    ----------\n",
    "    in_feat : int\n",
    "        Input feature size.\n",
    "    out_feat : int\n",
    "        Output feature size.\n",
    "    \"\"\"\n",
    "    def __init__(self, in_feat, out_feat):\n",
    "        super(SAGEConv, self).__init__()\n",
    "        # A linear submodule for projecting the input and neighbor feature to the output.\n",
    "        self.linear = nn.Linear(in_feat * 2, out_feat)\n",
    "    \n",
    "    def forward(self, g, h):\n",
    "        \"\"\"Forward computation\n",
    "        \n",
    "        Parameters\n",
    "        ----------\n",
    "        g : Graph\n",
    "            The input graph.\n",
    "        h : Tensor\n",
    "            The input node feature.\n",
    "        \"\"\"\n",
    "        with g.local_scope():\n",
    "            g.srcdata['h'] = h\n",
    "            # update_all is a message passing API.\n",
    "            g.update_all(message_func=fn.copy_u('h', 'm'), reduce_func=fn.mean('m', 'h_neigh'))\n",
    "            h_neigh = g.dstdata['h_neigh']\n",
    "            h_total = torch.cat([h, h_neigh], dim=1)\n",
    "            return self.linear(h_total)"
   ]
  },
  {
   "cell_type": "markdown",
   "metadata": {},
   "source": [
    "The central piece in this code is the [`g.update_all`](https://docs.dgl.ai/generated/dgl.DGLGraph.update_all.html#dgl.DGLGraph.update_all) function, which gathers and averages the neighbor features. There are three concepts here:\n",
    "* Message function `fn.copy_u('h', 'm')` that copies the node feature under name `'h'` as *messages* sent to neighbors.\n",
    "* Reduce function `fn.mean('m', 'h_neigh')` that averages all the received messages under name `'m'` and saves the result as a new node feature `'h_neigh'`.\n",
    "* `update_all` tells DGL to trigger the message and reduce functions for all the nodes and edges."
   ]
  },
  {
   "cell_type": "markdown",
   "metadata": {},
   "source": [
    "Afterwards, you can stack your own GraphSAGE convolution layers to form a multi-layer GraphSAGE network.\n",
    "\n",
    "<div class=\"alert alert-info\">\n",
    "    <b>Note</b>: the GraphSAGE model here is only a demonstration of how you could write a neural network module; the hyperparameters and architecture choices are not tuned so the performance here may be inferior to what the paper actually reported.  For an accurate reproduction, please refer to <a href=https://github.com/dmlc/dgl/blob/master/examples/pytorch/graphsage/train_full.py>our example</a>.\n",
    "</div>"
   ]
  },
  {
   "cell_type": "code",
   "execution_count": 4,
   "metadata": {},
   "outputs": [
    {
     "name": "stdout",
     "output_type": "stream",
     "text": [
      "In epoch 0, loss: 1.949, val acc: 0.122 (best 0.122), test acc: 0.130 (best 0.130)\n",
      "In epoch 5, loss: 1.882, val acc: 0.420 (best 0.420), test acc: 0.462 (best 0.462)\n",
      "In epoch 10, loss: 1.761, val acc: 0.580 (best 0.592), test acc: 0.638 (best 0.639)\n",
      "In epoch 15, loss: 1.580, val acc: 0.616 (best 0.616), test acc: 0.654 (best 0.654)\n",
      "In epoch 20, loss: 1.343, val acc: 0.622 (best 0.632), test acc: 0.656 (best 0.654)\n",
      "In epoch 25, loss: 1.073, val acc: 0.654 (best 0.654), test acc: 0.675 (best 0.675)\n",
      "In epoch 30, loss: 0.800, val acc: 0.680 (best 0.680), test acc: 0.701 (best 0.701)\n",
      "In epoch 35, loss: 0.560, val acc: 0.716 (best 0.716), test acc: 0.725 (best 0.725)\n",
      "In epoch 40, loss: 0.371, val acc: 0.728 (best 0.732), test acc: 0.747 (best 0.736)\n",
      "In epoch 45, loss: 0.238, val acc: 0.734 (best 0.736), test acc: 0.750 (best 0.752)\n",
      "In epoch 50, loss: 0.152, val acc: 0.730 (best 0.736), test acc: 0.749 (best 0.752)\n",
      "In epoch 55, loss: 0.099, val acc: 0.728 (best 0.736), test acc: 0.749 (best 0.752)\n",
      "In epoch 60, loss: 0.067, val acc: 0.732 (best 0.736), test acc: 0.752 (best 0.752)\n",
      "In epoch 65, loss: 0.048, val acc: 0.734 (best 0.736), test acc: 0.752 (best 0.752)\n",
      "In epoch 70, loss: 0.036, val acc: 0.736 (best 0.736), test acc: 0.749 (best 0.752)\n",
      "In epoch 75, loss: 0.028, val acc: 0.734 (best 0.736), test acc: 0.751 (best 0.752)\n",
      "In epoch 80, loss: 0.023, val acc: 0.730 (best 0.736), test acc: 0.754 (best 0.752)\n",
      "In epoch 85, loss: 0.019, val acc: 0.730 (best 0.736), test acc: 0.756 (best 0.752)\n",
      "In epoch 90, loss: 0.017, val acc: 0.732 (best 0.736), test acc: 0.755 (best 0.752)\n",
      "In epoch 95, loss: 0.015, val acc: 0.732 (best 0.736), test acc: 0.754 (best 0.752)\n",
      "In epoch 100, loss: 0.013, val acc: 0.728 (best 0.736), test acc: 0.754 (best 0.752)\n",
      "In epoch 105, loss: 0.012, val acc: 0.728 (best 0.736), test acc: 0.755 (best 0.752)\n",
      "In epoch 110, loss: 0.011, val acc: 0.728 (best 0.736), test acc: 0.755 (best 0.752)\n",
      "In epoch 115, loss: 0.010, val acc: 0.728 (best 0.736), test acc: 0.755 (best 0.752)\n",
      "In epoch 120, loss: 0.009, val acc: 0.728 (best 0.736), test acc: 0.755 (best 0.752)\n",
      "In epoch 125, loss: 0.008, val acc: 0.728 (best 0.736), test acc: 0.755 (best 0.752)\n",
      "In epoch 130, loss: 0.008, val acc: 0.728 (best 0.736), test acc: 0.755 (best 0.752)\n",
      "In epoch 135, loss: 0.007, val acc: 0.728 (best 0.736), test acc: 0.755 (best 0.752)\n",
      "In epoch 140, loss: 0.007, val acc: 0.728 (best 0.736), test acc: 0.755 (best 0.752)\n",
      "In epoch 145, loss: 0.006, val acc: 0.728 (best 0.736), test acc: 0.755 (best 0.752)\n",
      "In epoch 150, loss: 0.006, val acc: 0.728 (best 0.736), test acc: 0.756 (best 0.752)\n",
      "In epoch 155, loss: 0.006, val acc: 0.728 (best 0.736), test acc: 0.755 (best 0.752)\n",
      "In epoch 160, loss: 0.005, val acc: 0.730 (best 0.736), test acc: 0.755 (best 0.752)\n",
      "In epoch 165, loss: 0.005, val acc: 0.730 (best 0.736), test acc: 0.756 (best 0.752)\n",
      "In epoch 170, loss: 0.005, val acc: 0.730 (best 0.736), test acc: 0.757 (best 0.752)\n",
      "In epoch 175, loss: 0.005, val acc: 0.730 (best 0.736), test acc: 0.757 (best 0.752)\n",
      "In epoch 180, loss: 0.004, val acc: 0.730 (best 0.736), test acc: 0.756 (best 0.752)\n",
      "In epoch 185, loss: 0.004, val acc: 0.732 (best 0.736), test acc: 0.755 (best 0.752)\n",
      "In epoch 190, loss: 0.004, val acc: 0.732 (best 0.736), test acc: 0.755 (best 0.752)\n",
      "In epoch 195, loss: 0.004, val acc: 0.732 (best 0.736), test acc: 0.755 (best 0.752)\n"
     ]
    }
   ],
   "source": [
    "class Net(nn.Module):\n",
    "    def __init__(self, in_feats, h_feats, num_classes):\n",
    "        super(Net, self).__init__()\n",
    "        self.conv1 = SAGEConv(in_feats, h_feats)\n",
    "        self.conv2 = SAGEConv(h_feats, num_classes)\n",
    "    \n",
    "    def forward(self, g, in_feat):\n",
    "        h = self.conv1(g, in_feat)\n",
    "        h = F.relu(h)\n",
    "        h = self.conv2(g, h)\n",
    "        return h\n",
    "    \n",
    "net = Net(g.ndata['feat'].shape[1], 16, dataset.num_classes)\n",
    "train(g, net)"
   ]
  },
  {
   "cell_type": "markdown",
   "metadata": {},
   "source": [
    "## More customization\n",
    "\n",
    "In DGL, we provide many built-in message and reduce functions under the `dgl.function` package.\n",
    "\n",
    "![api](assets/dgl-mp.png)\n",
    "\n",
    "You can find more details in [the API doc](https://docs.dgl.ai/api/python/function.html)."
   ]
  },
  {
   "cell_type": "markdown",
   "metadata": {},
   "source": [
    "These APIs allow one to quickly implement new graph convolution modules. For example, the following implements a new `SAGEConv` that aggregates neighbor representations using a weighted average.  Note that `edata` member can hold edge features which can also take part in message passing."
   ]
  },
  {
   "cell_type": "code",
   "execution_count": 5,
   "metadata": {},
   "outputs": [],
   "source": [
    "class WeightedSAGEConv(nn.Module):\n",
    "    \"\"\"Graph convolution module used by the GraphSAGE model with edge weights.\n",
    "    \n",
    "    Parameters\n",
    "    ----------\n",
    "    in_feat : int\n",
    "        Input feature size.\n",
    "    out_feat : int\n",
    "        Output feature size.\n",
    "    \"\"\"\n",
    "    def __init__(self, in_feat, out_feat):\n",
    "        super(WeightedSAGEConv, self).__init__()\n",
    "        # A linear submodule for projecting the input and neighbor feature to the output.\n",
    "        self.linear = nn.Linear(in_feat * 2, out_feat)\n",
    "    \n",
    "    def forward(self, g, h, w):\n",
    "        \"\"\"Forward computation\n",
    "        \n",
    "        Parameters\n",
    "        ----------\n",
    "        g : Graph\n",
    "            The input graph.\n",
    "        h : Tensor\n",
    "            The input node feature.\n",
    "        w : Tensor\n",
    "            The edge weight.\n",
    "        \"\"\"\n",
    "        with g.local_scope():\n",
    "            g.srcdata['h'] = h\n",
    "            g.edata['w'] = w\n",
    "            g.update_all(fn.u_mul_e('h', 'w', 'm'), fn.mean('m', 'h_neigh'))\n",
    "            h_neigh = g.dstdata['h_neigh']\n",
    "            h_total = torch.cat([h, h_neigh], dim=1)\n",
    "            return self.linear(h_total)"
   ]
  },
  {
   "cell_type": "markdown",
   "metadata": {},
   "source": [
    "Because the graph in this dataset does not have edge weights, we manually assign all edge weights to one in the `forward()` function of the model.  You can replace it with your own edge weights."
   ]
  },
  {
   "cell_type": "code",
   "execution_count": 6,
   "metadata": {},
   "outputs": [
    {
     "name": "stdout",
     "output_type": "stream",
     "text": [
      "In epoch 0, loss: 1.952, val acc: 0.162 (best 0.162), test acc: 0.149 (best 0.149)\n",
      "In epoch 5, loss: 1.858, val acc: 0.290 (best 0.290), test acc: 0.299 (best 0.299)\n",
      "In epoch 10, loss: 1.697, val acc: 0.668 (best 0.668), test acc: 0.658 (best 0.671)\n",
      "In epoch 15, loss: 1.467, val acc: 0.662 (best 0.668), test acc: 0.658 (best 0.671)\n",
      "In epoch 20, loss: 1.182, val acc: 0.702 (best 0.702), test acc: 0.703 (best 0.703)\n",
      "In epoch 25, loss: 0.877, val acc: 0.722 (best 0.722), test acc: 0.715 (best 0.715)\n",
      "In epoch 30, loss: 0.597, val acc: 0.736 (best 0.736), test acc: 0.736 (best 0.736)\n",
      "In epoch 35, loss: 0.378, val acc: 0.742 (best 0.744), test acc: 0.746 (best 0.747)\n",
      "In epoch 40, loss: 0.229, val acc: 0.752 (best 0.752), test acc: 0.752 (best 0.752)\n",
      "In epoch 45, loss: 0.138, val acc: 0.750 (best 0.752), test acc: 0.757 (best 0.752)\n",
      "In epoch 50, loss: 0.084, val acc: 0.756 (best 0.756), test acc: 0.763 (best 0.761)\n",
      "In epoch 55, loss: 0.054, val acc: 0.758 (best 0.758), test acc: 0.763 (best 0.763)\n",
      "In epoch 60, loss: 0.037, val acc: 0.764 (best 0.764), test acc: 0.764 (best 0.764)\n",
      "In epoch 65, loss: 0.027, val acc: 0.760 (best 0.764), test acc: 0.766 (best 0.764)\n",
      "In epoch 70, loss: 0.021, val acc: 0.756 (best 0.764), test acc: 0.769 (best 0.764)\n",
      "In epoch 75, loss: 0.017, val acc: 0.756 (best 0.764), test acc: 0.769 (best 0.764)\n",
      "In epoch 80, loss: 0.014, val acc: 0.756 (best 0.764), test acc: 0.770 (best 0.764)\n",
      "In epoch 85, loss: 0.012, val acc: 0.756 (best 0.764), test acc: 0.769 (best 0.764)\n",
      "In epoch 90, loss: 0.011, val acc: 0.756 (best 0.764), test acc: 0.769 (best 0.764)\n",
      "In epoch 95, loss: 0.009, val acc: 0.756 (best 0.764), test acc: 0.768 (best 0.764)\n",
      "In epoch 100, loss: 0.009, val acc: 0.756 (best 0.764), test acc: 0.767 (best 0.764)\n",
      "In epoch 105, loss: 0.008, val acc: 0.758 (best 0.764), test acc: 0.768 (best 0.764)\n",
      "In epoch 110, loss: 0.007, val acc: 0.754 (best 0.764), test acc: 0.768 (best 0.764)\n",
      "In epoch 115, loss: 0.007, val acc: 0.754 (best 0.764), test acc: 0.769 (best 0.764)\n",
      "In epoch 120, loss: 0.006, val acc: 0.752 (best 0.764), test acc: 0.768 (best 0.764)\n",
      "In epoch 125, loss: 0.006, val acc: 0.754 (best 0.764), test acc: 0.768 (best 0.764)\n",
      "In epoch 130, loss: 0.005, val acc: 0.756 (best 0.764), test acc: 0.768 (best 0.764)\n",
      "In epoch 135, loss: 0.005, val acc: 0.756 (best 0.764), test acc: 0.767 (best 0.764)\n",
      "In epoch 140, loss: 0.005, val acc: 0.756 (best 0.764), test acc: 0.767 (best 0.764)\n",
      "In epoch 145, loss: 0.005, val acc: 0.756 (best 0.764), test acc: 0.766 (best 0.764)\n",
      "In epoch 150, loss: 0.004, val acc: 0.756 (best 0.764), test acc: 0.766 (best 0.764)\n",
      "In epoch 155, loss: 0.004, val acc: 0.754 (best 0.764), test acc: 0.766 (best 0.764)\n",
      "In epoch 160, loss: 0.004, val acc: 0.754 (best 0.764), test acc: 0.767 (best 0.764)\n",
      "In epoch 165, loss: 0.004, val acc: 0.754 (best 0.764), test acc: 0.767 (best 0.764)\n",
      "In epoch 170, loss: 0.004, val acc: 0.754 (best 0.764), test acc: 0.767 (best 0.764)\n",
      "In epoch 175, loss: 0.003, val acc: 0.754 (best 0.764), test acc: 0.766 (best 0.764)\n",
      "In epoch 180, loss: 0.003, val acc: 0.754 (best 0.764), test acc: 0.766 (best 0.764)\n",
      "In epoch 185, loss: 0.003, val acc: 0.754 (best 0.764), test acc: 0.766 (best 0.764)\n",
      "In epoch 190, loss: 0.003, val acc: 0.754 (best 0.764), test acc: 0.766 (best 0.764)\n",
      "In epoch 195, loss: 0.003, val acc: 0.754 (best 0.764), test acc: 0.766 (best 0.764)\n"
     ]
    }
   ],
   "source": [
    "class Net(nn.Module):\n",
    "    def __init__(self, in_feats, h_feats, num_classes):\n",
    "        super(Net, self).__init__()\n",
    "        self.conv1 = WeightedSAGEConv(in_feats, h_feats)\n",
    "        self.conv2 = WeightedSAGEConv(h_feats, num_classes)\n",
    "    \n",
    "    def forward(self, g, in_feat):\n",
    "        h = self.conv1(g, in_feat, torch.ones(g.num_edges()).to(g.device))\n",
    "        h = F.relu(h)\n",
    "        h = self.conv2(g, h, torch.ones(g.num_edges()).to(g.device))\n",
    "        return h\n",
    "    \n",
    "net = Net(g.ndata['feat'].shape[1], 16, dataset.num_classes)\n",
    "train(g, net)"
   ]
  },
  {
   "cell_type": "markdown",
   "metadata": {},
   "source": [
    "## Even more customization by user-defined function\n",
    "\n",
    "DGL allows user-defined message and reduce function for the maximal expressiveness. Here is a user-defined message function that is equivalent to `fn.u_mul_e('h', 'w', 'm')`."
   ]
  },
  {
   "cell_type": "code",
   "execution_count": 7,
   "metadata": {},
   "outputs": [],
   "source": [
    "def u_mul_e_udf(edges):\n",
    "    return {'m' : edges.src['h'] * edges.data['w']}"
   ]
  },
  {
   "cell_type": "markdown",
   "metadata": {},
   "source": [
    "`edges` has three members: `src`, `data` and `dst`, representing the source node feature, edge feature, and destination node feature for all edges."
   ]
  },
  {
   "cell_type": "markdown",
   "metadata": {},
   "source": [
    "You can also write your own reduce function.  For example, the following is equivalent to the builtin `fn.sum('m', 'h')` function that sums up the incoming messages:"
   ]
  },
  {
   "cell_type": "code",
   "execution_count": 8,
   "metadata": {},
   "outputs": [],
   "source": [
    "def sum_udf(nodes):\n",
    "    return {'h': nodes.mailbox['m'].sum(1)}"
   ]
  },
  {
   "cell_type": "markdown",
   "metadata": {},
   "source": [
    "In short, DGL will group the nodes by their in-degrees, and for each group DGL stacks the incoming messages along the second dimension.  One can then perform a reduction along the second dimension to aggregate messages.\n",
    "\n",
    "For more details on customizing message and reduce function with user-defined function, please refer to the [API reference](https://docs.dgl.ai/api/python/udf.html#apiudf)."
   ]
  },
  {
   "cell_type": "markdown",
   "metadata": {},
   "source": [
    "## Computing softmax over incoming edges of all nodes\n",
    "\n",
    "A common reduction operation is to compute a weighted aggregation of messages via a softmax.  That is, given the edge weights $z_{i\\to j}$ and the node features $h_i^{(l)}$, you would like to compute a softmax over all incoming edges of every individual node $i$, and compute a weighted average based on them:\n",
    "\n",
    "$$\n",
    "a_{i\\to j} = \\frac{\\exp(z_{i\\to j})}{\\sum_{i'\\in\\mathcal{N}(j)}\\exp(z_{i'\\to j})} \\qquad h_j^{(l+1)} = \\sum_{i\\in \\mathcal{N}(j)} a_{i\\to j} h_i^{(l)}\n",
    "$$\n",
    "\n",
    "DGL has an efficient wrapper function `dgl.ops.edge_softmax` that computes the softmax output in a memory- and time-efficient way.\n",
    "\n",
    "For example, DGL has builtin support of [Graph Attention Networks (Veličković et al., 2017)](https://arxiv.org/abs/1710.10903) via [`dgl.nn.GATConv`](https://docs.dgl.ai/api/python/nn.pytorch.html#dgl.nn.pytorch.conv.GATConv), but here is how you can implement GAT convolutions in DGL by your own."
   ]
  },
  {
   "cell_type": "code",
   "execution_count": 9,
   "metadata": {},
   "outputs": [],
   "source": [
    "import dgl.function as fn\n",
    "from dgl.ops import edge_softmax\n",
    "\n",
    "class GATConv(nn.Module):\n",
    "    \"\"\"Graph convolution module used by the GraphSAGE model.\n",
    "    \n",
    "    Parameters\n",
    "    ----------\n",
    "    in_feat : int\n",
    "        Input feature size.\n",
    "    out_feat : int\n",
    "        Output feature size.\n",
    "    \"\"\"\n",
    "    def __init__(self, in_feat, out_feat):\n",
    "        super(GATConv, self).__init__()\n",
    "        # A linear submodule for projecting the input and neighbor feature to the output.\n",
    "        self.linear = nn.Linear(in_feat, out_feat)\n",
    "    \n",
    "    def forward(self, g, h):\n",
    "        \"\"\"Forward computation\n",
    "        \n",
    "        Parameters\n",
    "        ----------\n",
    "        g : Graph\n",
    "            The input graph.\n",
    "        h : Tensor\n",
    "            The input node feature.\n",
    "        \"\"\"\n",
    "        with g.local_scope():\n",
    "            g.srcdata['h'] = h\n",
    "            g.dstdata['h'] = h\n",
    "            # Compute a dot product for all edges between input nodes and output nodes.\n",
    "            # The dot product will serve as logits of the softmax.\n",
    "            g.apply_edges(fn.u_dot_v('h', 'h', 'z'))\n",
    "            # Compute a softmax over the incoming edges of all nodes.\n",
    "            g.edata['a'] = edge_softmax(g, g.edata['z'])\n",
    "            g.update_all(fn.u_mul_e('h', 'a', 'm'), fn.mean('m', 'h_neigh'))\n",
    "            h_neigh = g.dstdata['h_neigh']\n",
    "            return self.linear(h_neigh)"
   ]
  },
  {
   "cell_type": "markdown",
   "metadata": {},
   "source": [
    "The code here introduces two more new methods:\n",
    "\n",
    "* `apply_edges` takes in a single message function.  It computes the message function output for all the edges, and store it as an edge feature.  Here, the statement `g.apply_edges(fn.u_dot_v('h', 'h', 'a'))` computes for each edge a dot product of its source node and destination node.\n",
    "* `edge_softmax` takes in a DGL graph object as well as a edge weight tensor.  It returns another edge weight tensor representing the post-softmax edge weights."
   ]
  },
  {
   "cell_type": "markdown",
   "metadata": {},
   "source": [
    "You can again create your own multi-layer GAT as usual.\n",
    "\n",
    "<div class=\"alert alert-info\">\n",
    "    <b>Note</b>: the GAT model here is only a demonstration of how you could write a neural network module; the hyperparameters and architecture choices are not tuned so the performance here may be inferior to what the paper actually reported.  For an accurate reproduction, please refer to <a href=https://github.com/dmlc/dgl/tree/master/examples/pytorch/gat/train.py>our example</a>.\n",
    "</div>"
   ]
  },
  {
   "cell_type": "code",
   "execution_count": 10,
   "metadata": {},
   "outputs": [
    {
     "name": "stdout",
     "output_type": "stream",
     "text": [
      "In epoch 0, loss: 1.948, val acc: 0.124 (best 0.124), test acc: 0.130 (best 0.130)\n",
      "In epoch 5, loss: 1.933, val acc: 0.066 (best 0.124), test acc: 0.065 (best 0.130)\n",
      "In epoch 10, loss: 1.907, val acc: 0.112 (best 0.124), test acc: 0.125 (best 0.130)\n",
      "In epoch 15, loss: 1.867, val acc: 0.096 (best 0.124), test acc: 0.108 (best 0.130)\n",
      "In epoch 20, loss: 1.816, val acc: 0.164 (best 0.164), test acc: 0.160 (best 0.160)\n",
      "In epoch 25, loss: 1.755, val acc: 0.290 (best 0.290), test acc: 0.305 (best 0.305)\n",
      "In epoch 30, loss: 1.688, val acc: 0.284 (best 0.308), test acc: 0.284 (best 0.297)\n",
      "In epoch 35, loss: 1.615, val acc: 0.300 (best 0.308), test acc: 0.300 (best 0.297)\n",
      "In epoch 40, loss: 1.536, val acc: 0.318 (best 0.320), test acc: 0.330 (best 0.325)\n",
      "In epoch 45, loss: 1.452, val acc: 0.322 (best 0.328), test acc: 0.329 (best 0.327)\n",
      "In epoch 50, loss: 1.367, val acc: 0.322 (best 0.328), test acc: 0.341 (best 0.327)\n",
      "In epoch 55, loss: 1.284, val acc: 0.348 (best 0.348), test acc: 0.377 (best 0.377)\n",
      "In epoch 60, loss: 1.205, val acc: 0.372 (best 0.372), test acc: 0.395 (best 0.395)\n",
      "In epoch 65, loss: 1.130, val acc: 0.402 (best 0.402), test acc: 0.432 (best 0.432)\n",
      "In epoch 70, loss: 1.059, val acc: 0.424 (best 0.424), test acc: 0.469 (best 0.469)\n",
      "In epoch 75, loss: 0.991, val acc: 0.466 (best 0.466), test acc: 0.501 (best 0.501)\n",
      "In epoch 80, loss: 0.926, val acc: 0.508 (best 0.508), test acc: 0.544 (best 0.544)\n",
      "In epoch 85, loss: 0.863, val acc: 0.526 (best 0.526), test acc: 0.564 (best 0.562)\n",
      "In epoch 90, loss: 0.803, val acc: 0.540 (best 0.540), test acc: 0.585 (best 0.585)\n",
      "In epoch 95, loss: 0.746, val acc: 0.564 (best 0.564), test acc: 0.608 (best 0.608)\n",
      "In epoch 100, loss: 0.692, val acc: 0.590 (best 0.590), test acc: 0.622 (best 0.622)\n",
      "In epoch 105, loss: 0.643, val acc: 0.598 (best 0.598), test acc: 0.634 (best 0.634)\n",
      "In epoch 110, loss: 0.598, val acc: 0.614 (best 0.614), test acc: 0.646 (best 0.646)\n",
      "In epoch 115, loss: 0.556, val acc: 0.618 (best 0.618), test acc: 0.651 (best 0.647)\n",
      "In epoch 120, loss: 0.518, val acc: 0.624 (best 0.624), test acc: 0.660 (best 0.660)\n",
      "In epoch 125, loss: 0.483, val acc: 0.622 (best 0.626), test acc: 0.669 (best 0.661)\n",
      "In epoch 130, loss: 0.451, val acc: 0.622 (best 0.626), test acc: 0.672 (best 0.661)\n",
      "In epoch 135, loss: 0.422, val acc: 0.624 (best 0.626), test acc: 0.674 (best 0.661)\n",
      "In epoch 140, loss: 0.395, val acc: 0.628 (best 0.632), test acc: 0.678 (best 0.679)\n",
      "In epoch 145, loss: 0.371, val acc: 0.630 (best 0.632), test acc: 0.682 (best 0.679)\n",
      "In epoch 150, loss: 0.348, val acc: 0.636 (best 0.636), test acc: 0.682 (best 0.682)\n",
      "In epoch 155, loss: 0.327, val acc: 0.644 (best 0.644), test acc: 0.681 (best 0.681)\n",
      "In epoch 160, loss: 0.308, val acc: 0.644 (best 0.644), test acc: 0.682 (best 0.681)\n",
      "In epoch 165, loss: 0.290, val acc: 0.648 (best 0.648), test acc: 0.683 (best 0.684)\n",
      "In epoch 170, loss: 0.273, val acc: 0.652 (best 0.652), test acc: 0.685 (best 0.685)\n",
      "In epoch 175, loss: 0.258, val acc: 0.656 (best 0.656), test acc: 0.684 (best 0.684)\n",
      "In epoch 180, loss: 0.243, val acc: 0.658 (best 0.658), test acc: 0.689 (best 0.686)\n",
      "In epoch 185, loss: 0.230, val acc: 0.660 (best 0.660), test acc: 0.692 (best 0.689)\n",
      "In epoch 190, loss: 0.217, val acc: 0.658 (best 0.660), test acc: 0.696 (best 0.689)\n",
      "In epoch 195, loss: 0.205, val acc: 0.654 (best 0.660), test acc: 0.694 (best 0.689)\n"
     ]
    }
   ],
   "source": [
    "class Net(nn.Module):\n",
    "    def __init__(self, in_feats, h_feats, num_classes):\n",
    "        super(Net, self).__init__()\n",
    "        self.conv1 = GATConv(in_feats, h_feats)\n",
    "        self.conv2 = GATConv(h_feats, num_classes)\n",
    "    \n",
    "    def forward(self, g, in_feat):\n",
    "        h = self.conv1(g, in_feat)\n",
    "        h = F.relu(h)\n",
    "        h = self.conv2(g, h)\n",
    "        return h\n",
    "    \n",
    "net = Net(g.ndata['feat'].shape[1], 64, dataset.num_classes)\n",
    "train(g, net)"
   ]
  },
  {
   "cell_type": "markdown",
   "metadata": {},
   "source": [
    "## Recap\n",
    "\n",
    "* Use `srcdata` and `dstdata` to assign input node features and retrieve output node features.\n",
    "* Using the built-in message and reduce functions in `dgl.function` to customize a new NN module.\n",
    "* User-defined function provides even more flexibility.\n",
    "* `dgl.ops.edge_softmax` can compute softmax over incoming edges efficiently."
   ]
  },
  {
   "cell_type": "code",
   "execution_count": null,
   "metadata": {},
   "outputs": [],
   "source": []
  }
 ],
 "metadata": {
  "kernelspec": {
   "display_name": "Python 3",
   "language": "python",
   "name": "python3"
  },
  "language_info": {
   "codemirror_mode": {
    "name": "ipython",
    "version": 3
   },
   "file_extension": ".py",
   "mimetype": "text/x-python",
   "name": "python",
   "nbconvert_exporter": "python",
   "pygments_lexer": "ipython3",
   "version": "3.7.4"
  }
 },
 "nbformat": 4,
 "nbformat_minor": 2
}
