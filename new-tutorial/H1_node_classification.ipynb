{
 "cells": [
  {
   "cell_type": "markdown",
   "metadata": {},
   "source": [
    "# Node Classification on Heterogeneous Graphs"
   ]
  },
  {
   "cell_type": "markdown",
   "metadata": {},
   "source": [
    "DGL's performs message passing on heterogeneous graphs by edge type.  You can assign one convolution module for each edge type.\n",
    "\n",
    "DGL's convolution modules not only work on homogeneous graphs, but also unidirectional bipartite graphs with two node types and one edge type, whose edges are from one node type to the other node type.\n",
    "\n",
    "The aggregations of messages along each edge type are then further aggregated by edge types via `dgl.nn.HeteroGraphConv` with the `aggregate` argument."
   ]
  },
  {
   "cell_type": "code",
   "execution_count": null,
   "metadata": {},
   "outputs": [],
   "source": [
    "class HeteroGraphConv(nn.Module):\n",
    "    def __init__(self, in_feat, out_feat):\n",
    "        super(HeteroSAGEConv, self).__init__()\n",
    "        \n",
    "        self.conv1 = dglnn.HeteroGraphConv({\n",
    "            'follows': dglnn.GraphConv(10, 20),\n",
    "            'plays': dglnn.GraphConv(10, 20),\n",
    "            'sells': dglnn.GraphConv(10, 20)\n",
    "        }, aggregate='sum')\n",
    "        self.conv2 = dglnn.HeteroGraphConv({\n",
    "            'follows': dglnn.GraphConv(20, 20),\n",
    "            'plays': dglnn.GraphConv(20, 20),\n",
    "            'sells': dglnn.GraphConv(20, 20)\n",
    "        }, aggregate='sum')\n",
    "        \n",
    "    def forward(self, g, x):\n",
    "        x = self.conv1(g, x)\n",
    "        x = {k: F.relu(v) for k, v in x.items()}\n",
    "        x = self.conv2(g, x)\n",
    "        return x"
   ]
  },
  {
   "cell_type": "markdown",
   "metadata": {},
   "source": [
    "## What next?\n",
    "\n",
    "* [Load and process your own heterogeneous graph data](H2_load_data.ipynb).\n",
    "* [Write your own heterogeneous graph convolution module](H3_message_passing.ipynb).\n",
    "* [Link prediction (predicting existence of edges) on full graph](H4_link_predict.ipynb).\n",
    "* [Scaling to large heterogeneous graphs](H5_large_heterogeneous_graph.ipynb)"
   ]
  }
 ],
 "metadata": {
  "kernelspec": {
   "display_name": "Python 3",
   "language": "python",
   "name": "python3"
  },
  "language_info": {
   "codemirror_mode": {
    "name": "ipython",
    "version": 3
   },
   "file_extension": ".py",
   "mimetype": "text/x-python",
   "name": "python",
   "nbconvert_exporter": "python",
   "pygments_lexer": "ipython3",
   "version": "3.7.4"
  }
 },
 "nbformat": 4,
 "nbformat_minor": 4
}
