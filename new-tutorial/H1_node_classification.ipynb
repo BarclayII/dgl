{
 "cells": [
  {
   "cell_type": "markdown",
   "metadata": {},
   "source": [
    "# Node Classification on Heterogeneous Graphs"
   ]
  },
  {
   "cell_type": "markdown",
   "metadata": {},
   "source": [
    "## What next?\n",
    "\n",
    "* [Load and process your own heterogeneous graph data](H2_load_data.ipynb).\n",
    "* [Write your own heterogeneous graph convolution module](H3_message_passing.ipynb).\n",
    "* [Link prediction (predicting existence of edges) on full graph](H4_link_predict.ipynb).\n",
    "* [Scaling to large heterogeneous graphs](H5_large_heterogeneous_graph.ipynb)"
   ]
  }
 ],
 "metadata": {
  "kernelspec": {
   "display_name": "Python 3",
   "language": "python",
   "name": "python3"
  },
  "language_info": {
   "codemirror_mode": {
    "name": "ipython",
    "version": 3
   },
   "file_extension": ".py",
   "mimetype": "text/x-python",
   "name": "python",
   "nbconvert_exporter": "python",
   "pygments_lexer": "ipython3",
   "version": "3.7.4"
  }
 },
 "nbformat": 4,
 "nbformat_minor": 4
}
