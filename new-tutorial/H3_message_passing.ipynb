{
 "cells": [
  {
   "cell_type": "markdown",
   "metadata": {},
   "source": [
    "As you have seen in the [node classification tutorial](H1_node_classification.ipynb), you can assign one convolution module for each edge type.  Here, you can also write your own message passing module for each edge type."
   ]
  },
  {
   "cell_type": "code",
   "execution_count": null,
   "metadata": {},
   "outputs": [],
   "source": [
    "import dgl.function as fn\n",
    "\n",
    "class SAGEConv(nn.Module):\n",
    "    \"\"\"Graph convolution module used by the GraphSAGE model.\n",
    "    \n",
    "    Parameters\n",
    "    ----------\n",
    "    in_feat : int\n",
    "        Input feature size.\n",
    "    out_feat : int\n",
    "        Output feature size.\n",
    "    \"\"\"\n",
    "    def __init__(self, in_feat, out_feat):\n",
    "        super(SAGEConv, self).__init__()\n",
    "        # A linear submodule for projecting the input and neighbor feature to the output.\n",
    "        self.linear = nn.Linear(in_feat * 2, out_feat)\n",
    "    \n",
    "    def forward(self, g, h):\n",
    "        \"\"\"Forward computation\n",
    "        \n",
    "        Parameters\n",
    "        ----------\n",
    "        g : Graph\n",
    "            The input bipartite graph.\n",
    "        h : tuple[Tensor, Tensor]\n",
    "            The features of input nodes and output nodes.\n",
    "        \"\"\"\n",
    "        with g.local_scope():\n",
    "            h_src, h_dst = h                              # <--- Note the difference here\n",
    "            g.srcdata['h'] = h_src                        # <---\n",
    "            # update_all is a message passing API.\n",
    "            g.update_all(fn.copy_u('h', 'm'), fn.mean('m', 'h_neigh'))\n",
    "            h_neigh = g.dstdata['h_neigh']\n",
    "            h_total = torch.cat([h_dst, h_neigh], dim=1)  # <---\n",
    "            return self.linear(h_total)"
   ]
  },
  {
   "cell_type": "markdown",
   "metadata": {},
   "source": [
    "Then you can combine them with `dgl.nn.HeteroGraphConv` module."
   ]
  },
  {
   "cell_type": "code",
   "execution_count": null,
   "metadata": {},
   "outputs": [],
   "source": [
    "class HeteroSAGEConv(nn.Module):\n",
    "    def __init__(self, in_feat, out_feat):\n",
    "        super(HeteroSAGEConv, self).__init__()\n",
    "        \n",
    "        self.conv1 = dglnn.HeteroGraphConv({\n",
    "            'follows': SAGEConv(10, 20),\n",
    "            'plays': SAGEConv(10, 20),\n",
    "            'sells': SAGEConv(10, 20)\n",
    "        }, aggregate='sum')\n",
    "        self.conv2 = dglnn.HeteroGraphConv({\n",
    "            'follows': SAGEConv(20, 20),\n",
    "            'plays': SAGEConv(20, 20),\n",
    "            'sells': SAGEConv(20, 20)\n",
    "        }, aggregate='sum')\n",
    "        \n",
    "    def forward(self, g, x):\n",
    "        x = self.conv1(g, x)\n",
    "        x = {k: F.relu(v) for k, v in x.items()}\n",
    "        x = self.conv2(g, x)\n",
    "        return x"
   ]
  }
 ],
 "metadata": {
  "kernelspec": {
   "display_name": "Python 3",
   "language": "python",
   "name": "python3"
  },
  "language_info": {
   "codemirror_mode": {
    "name": "ipython",
    "version": 3
   },
   "file_extension": ".py",
   "mimetype": "text/x-python",
   "name": "python",
   "nbconvert_exporter": "python",
   "pygments_lexer": "ipython3",
   "version": "3.7.4"
  }
 },
 "nbformat": 4,
 "nbformat_minor": 4
}
