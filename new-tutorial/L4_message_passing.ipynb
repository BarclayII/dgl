{
 "cells": [
  {
   "cell_type": "markdown",
   "metadata": {},
   "source": [
    "# Writing GNN Modules for Large Graph Training\n",
    "\n",
    "This tutorial assumes that\n",
    "1. You know [how to write GNN modules for full graph training](3_message_passing.ipynb).\n",
    "2. You know [how large graph training works](L1_large_node_classification.ipynb)."
   ]
  },
  {
   "cell_type": "code",
   "execution_count": null,
   "metadata": {},
   "outputs": [],
   "source": [
    "import dgl.function as fn\n",
    "\n",
    "class SAGEConv(nn.Module):\n",
    "    \"\"\"Graph convolution module used by the GraphSAGE model.\n",
    "    \n",
    "    Parameters\n",
    "    ----------\n",
    "    in_feat : int\n",
    "        Input feature size.\n",
    "    out_feat : int\n",
    "        Output feature size.\n",
    "    \"\"\"\n",
    "    def __init__(self, in_feat, out_feat):\n",
    "        super(SAGEConv, self).__init__()\n",
    "        # A linear submodule for projecting the input and neighbor feature to the output.\n",
    "        self.linear = nn.Linear(in_feat * 2, out_feat)\n",
    "    \n",
    "    def forward(self, g, h):\n",
    "        \"\"\"Forward computation\n",
    "        \n",
    "        Parameters\n",
    "        ----------\n",
    "        g : Graph\n",
    "            The input bipartite graph.\n",
    "        h : Tensor\n",
    "            The input node feature.\n",
    "        \"\"\"\n",
    "        with g.local_scope():\n",
    "            h_src = h                                     # <---\n",
    "            h_dst = h[:g.number_of_dst_nodes()]           # <---\n",
    "            g.srcdata['h'] = h_src                        # <---\n",
    "            # update_all is a message passing API.\n",
    "            g.update_all(fn.copy_u('h', 'm'), fn.mean('m', 'h_neigh'))\n",
    "            h_neigh = g.dstdata['h_neigh']\n",
    "            h_total = torch.cat([h_dst, h_neigh], dim=1)  # <---\n",
    "            return self.linear(h_total)\n",
    "        \n",
    "class Net(nn.Module):\n",
    "    def __init__(self, in_feats, h_feats, num_classes):\n",
    "        super(Net, self).__init__()\n",
    "        self.conv1 = SAGEConv(in_feats, h_feats)\n",
    "        self.conv2 = SAGEConv(h_feats, num_classes)\n",
    "    \n",
    "    def forward(self, bipartites, in_feat):\n",
    "        h = self.conv1(bipartites[0], in_feat)\n",
    "        h = F.relu(h)\n",
    "        h = self.conv2(bipartites[1], h)\n",
    "        return h\n",
    "    \n",
    "sampler = dgl.dataloading.MultiLayerNeighborSampler([4, 4, 4])\n",
    "train_dataloader = dgl.dataloading.NodeDataLoader(\n",
    "    graph, train_nids, sampler,\n",
    "    batch_size=1024,\n",
    "    shuffle=True,\n",
    "    drop_last=False,\n",
    "    num_workers=0\n",
    ")\n",
    "\n",
    "with tqdm.tqdm(train_dataloader) as tq:\n",
    "    for step, (input_nodes, output_nodes, bipartites) in enumerate(tq):\n",
    "        bipartites = [b.to(torch.device('cuda')) for b in bipartites]\n",
    "        inputs = node_features[input_nodes].cuda()\n",
    "        labels = node_labels[output_nodes].cuda()\n",
    "        predictions = model(bipartites, inputs)"
   ]
  },
  {
   "cell_type": "markdown",
   "metadata": {},
   "source": [
    "[WIP]\n",
    "\n",
    "Several things to notice in the tutorial:\n",
    "\n",
    "* `g` is now a bipartite graph with the input nodes on one side and the output nodes on the other side.  This explains the difference of `h_src` and `h_dst`.\n",
    "* The output nodes always appear the first in the input nodes; hence the ability to use `h[:g.number_of_dst_nodes()]`.  Such property is guaranteed by the use of `dgl.to_block()` and the neighbor samplers subclassing `BlockSampler` (e.g. the builtin sampler)."
   ]
  },
  {
   "cell_type": "code",
   "execution_count": null,
   "metadata": {},
   "outputs": [],
   "source": []
  }
 ],
 "metadata": {
  "kernelspec": {
   "display_name": "Python 3",
   "language": "python",
   "name": "python3"
  },
  "language_info": {
   "codemirror_mode": {
    "name": "ipython",
    "version": 3
   },
   "file_extension": ".py",
   "mimetype": "text/x-python",
   "name": "python",
   "nbconvert_exporter": "python",
   "pygments_lexer": "ipython3",
   "version": "3.7.4"
  }
 },
 "nbformat": 4,
 "nbformat_minor": 4
}
