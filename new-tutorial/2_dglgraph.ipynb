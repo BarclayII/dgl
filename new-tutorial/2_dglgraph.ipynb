{
 "cells": [
  {
   "cell_type": "markdown",
   "metadata": {},
   "source": [
    "# How Does DGL Represent A Graph?\n",
    "\n",
    "By the end of this tutorial you will be able to:\n",
    "\n",
    "* Construct a graph in DGL from scratch.\n",
    "* Assigning node and edge features to a graph.\n",
    "* Query properties of a DGL graph such as node degrees and connectivity.\n",
    "* Transform a DGL graph into another graph with DGL functions.\n",
    "* Load and save DGL graph objects."
   ]
  },
  {
   "cell_type": "markdown",
   "metadata": {},
   "source": [
    "## DGL Graph Construction\n",
    "\n",
    "DGL represents a directed graph as a `DGLGraph` object.  One can construct a graph by specifying the number of nodes in the graph as well as the list of source and destination nodes.\n",
    "\n",
    "For instance, the following code constructs a directed star graph with 5 leaves.  The internal node is labeled 0, and the edges go from the internal node to the leaves."
   ]
  },
  {
   "cell_type": "code",
   "execution_count": 1,
   "metadata": {},
   "outputs": [
    {
     "name": "stderr",
     "output_type": "stream",
     "text": [
      "Using backend: pytorch\n"
     ]
    }
   ],
   "source": [
    "import dgl\n",
    "import numpy as np\n",
    "import torch\n",
    "\n",
    "g = dgl.graph(([0, 0, 0, 0, 0], [1, 2, 3, 4, 5]), num_nodes=6)\n",
    "# Equivalently, PyTorch LongTensors may also work.\n",
    "g = dgl.graph((torch.LongTensor([0, 0, 0, 0, 0]), torch.LongTensor([1, 2, 3, 4, 5])), num_nodes=6)\n",
    "\n",
    "# You can omit the number of nodes argument if you can tell the number of nodes from the edge list alone.\n",
    "g = dgl.graph(([0, 0, 0, 0, 0], [1, 2, 3, 4, 5]))"
   ]
  },
  {
   "cell_type": "markdown",
   "metadata": {},
   "source": [
    "Edges in the graph have consecutive identifiers starting from 0, and are in the same order as the list of source and destination nodes during creation."
   ]
  },
  {
   "cell_type": "code",
   "execution_count": 2,
   "metadata": {},
   "outputs": [
    {
     "name": "stdout",
     "output_type": "stream",
     "text": [
      "(tensor([0, 0, 0, 0, 0]), tensor([1, 2, 3, 4, 5]))\n"
     ]
    }
   ],
   "source": [
    "# Print the source and destination nodes of every edge.\n",
    "print(g.edges())"
   ]
  },
  {
   "cell_type": "code",
   "execution_count": 3,
   "metadata": {},
   "outputs": [],
   "source": [
    "# DGL graphs can be multigraphs.  That is, multiple edges can exist between the same pair of nodes.\n",
    "mg = dgl.graph(([0, 0, 0], [1, 1, 1]))"
   ]
  },
  {
   "cell_type": "markdown",
   "metadata": {},
   "source": [
    "<div class=\"alert alert-info\">\n",
    "    \n",
    "**Note:**  The graphs in DGL are always directed since messages sent from one node to the other are often different between both directions.  If you want to handle undirected graphs, you may consider treating it as a bidirectional graph.  See [Graph Transformations](#Graph-Transformations) for an example of making a bidirectional graph.\n",
    "    \n",
    "</div>"
   ]
  },
  {
   "cell_type": "markdown",
   "metadata": {},
   "source": [
    "## Assigning Node and Edge Features to Graph\n",
    "\n",
    "In many graph data, nodes and edges have attributes.  The nodes and edges in DGL graphs can have multiple attributes.\n",
    "\n",
    "Although the types of node and edge attributes can be arbitrary in real world, a DGL graph only accepts attributes stored in tensors (with numerical contents).  Consequently, an attribute of all the nodes or edges must have the same shape.  In the context of deep learning, those attributes are often called *features*.\n",
    "\n",
    "You can assign and retrieve node and edge features via `ndata` and `edata` property."
   ]
  },
  {
   "cell_type": "code",
   "execution_count": 4,
   "metadata": {},
   "outputs": [],
   "source": [
    "# Assign a 3-dimensional node feature vector for each node.\n",
    "g.ndata['x'] = torch.randn(6, 3)\n",
    "# Assign a 4-dimensional edge feature vector for each edge.\n",
    "g.edata['a'] = torch.randn(5, 4)\n",
    "# Assign a 5x4 node feature matrix for each node.  Node and edge features in DGL can be multi-dimensional.\n",
    "g.ndata['y'] = torch.randn(6, 5, 4)"
   ]
  },
  {
   "cell_type": "code",
   "execution_count": 5,
   "metadata": {},
   "outputs": [
    {
     "name": "stdout",
     "output_type": "stream",
     "text": [
      "tensor([[-0.4139,  0.1066, -1.2615, -0.9166],\n",
      "        [ 1.0759, -1.0922, -1.6612, -0.2515],\n",
      "        [-1.1481, -1.3787, -0.9325, -1.3221],\n",
      "        [-1.3788,  1.9841, -0.6983, -1.3810],\n",
      "        [-1.4653, -1.6310, -0.3887, -1.1083]])\n"
     ]
    }
   ],
   "source": [
    "print(g.edata['a'])"
   ]
  },
  {
   "cell_type": "markdown",
   "metadata": {},
   "source": [
    "<div class=\"alert alert-info\">\n",
    "\n",
    "**Note:** The vast development of deep learning has provided us many ways to encode various types of attributes into numerical features. Here are some general suggestions:\n",
    "\n",
    "* For categorical attributes (e.g. gender, occupation), consider converting them to integers or one-hot encoding.\n",
    "* For variable length string contents (e.g. news article, quote), consider applying a language model.\n",
    "* For images, consider applying a vision model such as CNNs.\n",
    "    \n",
    "You can find plenty of materials on how to encode such attributes into a tensor in the [PyTorch Deep Learning Tutorials](https://pytorch.org/tutorials/).\n",
    "    \n",
    "</div>"
   ]
  },
  {
   "cell_type": "markdown",
   "metadata": {},
   "source": [
    "## Graph Queries\n",
    "\n",
    "`DGLGraph` object provides various methods to query a graph structure."
   ]
  },
  {
   "cell_type": "code",
   "execution_count": 6,
   "metadata": {},
   "outputs": [
    {
     "name": "stdout",
     "output_type": "stream",
     "text": [
      "6\n",
      "5\n",
      "5\n",
      "0\n",
      "True\n",
      "0\n"
     ]
    }
   ],
   "source": [
    "print(g.num_nodes())\n",
    "print(g.num_edges())\n",
    "# Out degrees of the internal node\n",
    "print(g.out_degrees(0))\n",
    "# In degrees of the internal node - note that the graph is directed so the in degree should be 0.\n",
    "print(g.in_degrees(0))\n",
    "# Find if edges exist between the nodes:\n",
    "print(g.has_edges_between(0, 1))\n",
    "# Find the edge ID of the edge between two nodes:\n",
    "print(g.edge_ids(0, 1))"
   ]
  },
  {
   "cell_type": "markdown",
   "metadata": {},
   "source": [
    "## Graph Transformations"
   ]
  },
  {
   "cell_type": "markdown",
   "metadata": {},
   "source": [
    "You can also transform a graph to another graph.\n",
    "\n",
    "A common transformation is to create a subgraph from the original graph:"
   ]
  },
  {
   "cell_type": "code",
   "execution_count": 7,
   "metadata": {},
   "outputs": [],
   "source": [
    "# Induce a subgraph from node 0, node 1 and node 3 from the original graph.\n",
    "sg1 = g.subgraph([0, 1, 3])\n",
    "# Induce a subgraph from edge 0, edge 1 and edge 3 from the original graph.\n",
    "sg2 = g.edge_subgraph([0, 1, 3])"
   ]
  },
  {
   "cell_type": "markdown",
   "metadata": {},
   "source": [
    "You can obtain the node/edge mapping from the subgraph to the original graph by looking into the node feature `dgl.NID` or edge feature `dgl.EID` in the new graph."
   ]
  },
  {
   "cell_type": "code",
   "execution_count": 8,
   "metadata": {},
   "outputs": [
    {
     "name": "stdout",
     "output_type": "stream",
     "text": [
      "tensor([0, 1, 3])\n",
      "tensor([0, 2])\n",
      "tensor([0, 1, 2, 4])\n",
      "tensor([0, 1, 3])\n"
     ]
    }
   ],
   "source": [
    "# The original IDs of each node in sg1\n",
    "print(sg1.ndata[dgl.NID])\n",
    "# The original IDs of each edge in sg1\n",
    "print(sg1.edata[dgl.EID])\n",
    "# The original IDs of each node in sg2\n",
    "print(sg2.ndata[dgl.NID])\n",
    "# The original IDs of each edge in sg2\n",
    "print(sg2.edata[dgl.EID])"
   ]
  },
  {
   "cell_type": "markdown",
   "metadata": {},
   "source": [
    "Another common transformation is to add a reverse edge for each edge in the original graph with `dgl.add_reverse_edges`.\n",
    "\n",
    "<div class=\"alert alert-info\">\n",
    "\n",
    "**Note:** If you have an undirected graph, it is better to convert it into a bidirectional graph first via adding reverse edges.\n",
    "    \n",
    "</div>"
   ]
  },
  {
   "cell_type": "code",
   "execution_count": 9,
   "metadata": {},
   "outputs": [
    {
     "data": {
      "text/plain": [
       "(tensor([0, 0, 0, 0, 0, 1, 2, 3, 4, 5]),\n",
       " tensor([1, 2, 3, 4, 5, 0, 0, 0, 0, 0]))"
      ]
     },
     "execution_count": 9,
     "metadata": {},
     "output_type": "execute_result"
    }
   ],
   "source": [
    "newg = dgl.add_reverse_edges(g)\n",
    "newg.edges()"
   ]
  },
  {
   "cell_type": "markdown",
   "metadata": {},
   "source": [
    "## Loading and Saving Graphs\n",
    "\n",
    "You can save a graph or a list of graphs via `dgl.save_graphs` and load them back with `dgl.load_graphs`."
   ]
  },
  {
   "cell_type": "code",
   "execution_count": 10,
   "metadata": {},
   "outputs": [
    {
     "name": "stdout",
     "output_type": "stream",
     "text": [
      "Graph(num_nodes=6, num_edges=5,\n",
      "      ndata_schemes={'y': Scheme(shape=(5, 4), dtype=torch.float32), 'x': Scheme(shape=(3,), dtype=torch.float32)}\n",
      "      edata_schemes={'a': Scheme(shape=(4,), dtype=torch.float32)})\n",
      "Graph(num_nodes=6, num_edges=5,\n",
      "      ndata_schemes={'y': Scheme(shape=(5, 4), dtype=torch.float32), 'x': Scheme(shape=(3,), dtype=torch.float32)}\n",
      "      edata_schemes={'a': Scheme(shape=(4,), dtype=torch.float32)})\n",
      "Graph(num_nodes=3, num_edges=2,\n",
      "      ndata_schemes={'_ID': Scheme(shape=(), dtype=torch.int64), 'x': Scheme(shape=(3,), dtype=torch.float32), 'y': Scheme(shape=(5, 4), dtype=torch.float32)}\n",
      "      edata_schemes={'_ID': Scheme(shape=(), dtype=torch.int64), 'a': Scheme(shape=(4,), dtype=torch.float32)})\n",
      "Graph(num_nodes=4, num_edges=3,\n",
      "      ndata_schemes={'_ID': Scheme(shape=(), dtype=torch.int64), 'x': Scheme(shape=(3,), dtype=torch.float32), 'y': Scheme(shape=(5, 4), dtype=torch.float32)}\n",
      "      edata_schemes={'_ID': Scheme(shape=(), dtype=torch.int64), 'a': Scheme(shape=(4,), dtype=torch.float32)})\n"
     ]
    }
   ],
   "source": [
    "# Save graphs\n",
    "dgl.save_graphs('graph.dgl', g)\n",
    "dgl.save_graphs('graphs.dgl', [g, sg1, sg2])\n",
    "\n",
    "# Load graphs\n",
    "(g,), _ = dgl.load_graphs('graph.dgl')\n",
    "print(g)\n",
    "(g, sg1, sg2), _ = dgl.load_graphs('graphs.dgl')\n",
    "print(g)\n",
    "print(sg1)\n",
    "print(sg2)"
   ]
  },
  {
   "cell_type": "markdown",
   "metadata": {},
   "source": [
    "## What's next?\n",
    "\n",
    "* See [here](https://docs.dgl.ai/api/python/dgl.DGLGraph.html#querying-graph-structure) for a list of graph structure query APIs.\n",
    "* See [here](https://docs.dgl.ai/en/latest/api/python/dgl.html#subgraph-extraction-ops) for a list of subgraph extraction routines.\n",
    "* See [here](https://docs.dgl.ai/en/latest/api/python/dgl.html#graph-transform-ops) for a list of graph transformation routines.\n",
    "* API reference of [`dgl.save_graphs`](https://docs.dgl.ai/en/latest/generated/dgl.save_graphs.html) and [`dgl.load_graphs`](https://docs.dgl.ai/en/latest/generated/dgl.load_graphs.html)."
   ]
  },
  {
   "cell_type": "code",
   "execution_count": null,
   "metadata": {},
   "outputs": [],
   "source": []
  }
 ],
 "metadata": {
  "kernelspec": {
   "display_name": "Python 3",
   "language": "python",
   "name": "python3"
  },
  "language_info": {
   "codemirror_mode": {
    "name": "ipython",
    "version": 3
   },
   "file_extension": ".py",
   "mimetype": "text/x-python",
   "name": "python",
   "nbconvert_exporter": "python",
   "pygments_lexer": "ipython3",
   "version": "3.7.4"
  }
 },
 "nbformat": 4,
 "nbformat_minor": 4
}
