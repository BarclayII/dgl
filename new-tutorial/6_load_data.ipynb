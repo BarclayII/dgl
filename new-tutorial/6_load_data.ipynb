{
 "cells": [
  {
   "cell_type": "markdown",
   "metadata": {},
   "source": [
    "# Make Your Own Dataset\n",
    "\n",
    "This tutorial assumes that you already know [the basics of training a GNN for node classification](1_introduction.ipynb) and [how to create, load, and store a DGL graph](2_dglgraph.ipynb).\n",
    "\n",
    "Goal of this tutorial:\n",
    "\n",
    "* Create your own graph dataset for node classification, link prediction, or graph classification."
   ]
  },
  {
   "cell_type": "markdown",
   "metadata": {},
   "source": [
    "## `DGLDataset` Object Overview\n",
    "\n",
    "Your custom graph dataset should subclass the `dgl.data.DGLDataset` object and implement the following methods:\n",
    "\n",
    "* `__getitem__(self, i)`: retrieve the `i`-th example of the dataset.  An example often contains a single DGL graph\n",
    "* `__len__(self)`: the number of examples in the dataset."
   ]
  },
  {
   "cell_type": "markdown",
   "metadata": {},
   "source": [
    "## Creating a Dataset for Node Classification from CSV\n",
    "\n",
    "A node classification dataset often consists of a single graph, as well as its node and edge features.\n",
    "\n",
    "Here we take a small dataset based on [Zachary's Karate Club network](https://en.wikipedia.org/wiki/Zachary%27s_karate_club).  It contains\n",
    "* A `members.csv` file containing the attributes of all members, as well as their attributes.\n",
    "* An `interactions.csv` file containing the pair-wise interactions between two club members.\n",
    "\n",
    "We will treat the members as nodes and interactions as edges.  We will take age as a numeric feature of the nodes, affiliated club as the label of the nodes, and edge weight as a numeric feature of the edges.\n",
    "\n",
    "<div class=\"alert alert-info\">\n",
    "    \n",
    "**Note**: the original Zachary's Karate Club network does not have member ages.  The ages in this tutorial are generated synthetically for demonstrating how to add node features into the graph for dataset creation.\n",
    "    \n",
    "</div>\n",
    "\n",
    "<div class=\"alert alert-info\">\n",
    "    \n",
    "**Note**: in practice taking age directly as a numeric feature may not work well in machine learning; strategies like binning or normalizing the feature would work better.  Here we are directly taking the values as-is for simplicity.\n",
    "    \n",
    "</div>"
   ]
  },
  {
   "cell_type": "code",
   "execution_count": 13,
   "metadata": {},
   "outputs": [],
   "source": [
    "import dgl\n",
    "from dgl.data import DGLDataset\n",
    "import pandas as pd\n",
    "import torch\n",
    "import os\n",
    "\n",
    "class KarateClubDataset(DGLDataset):\n",
    "    def __init__(self):\n",
    "        super().__init__(name='karate_club')\n",
    "        \n",
    "    def process(self):\n",
    "        nodes_data = pd.read_csv('data/members.csv')\n",
    "        edges_data = pd.read_csv('data/interactions.csv')\n",
    "        node_features = torch.from_numpy(nodes_data['Age'].to_numpy())\n",
    "        node_labels = torch.from_numpy(nodes_data['Club'].astype('category').cat.codes.to_numpy())\n",
    "        edge_features = torch.from_numpy(edges_data['Weight'].to_numpy())\n",
    "        edges_src = torch.from_numpy(edges_data['Src'].to_numpy())\n",
    "        edges_dst = torch.from_numpy(edges_data['Dst'].to_numpy())\n",
    "        \n",
    "        self.graph = dgl.graph((edges_src, edges_dst), num_nodes=nodes_data.shape[0])\n",
    "        self.graph.ndata['feat'] = node_features\n",
    "        self.graph.ndata['label'] = node_labels\n",
    "        self.graph.edata['weight'] = edge_features\n",
    "        \n",
    "    def __getitem__(self, i):\n",
    "        return self.graph\n",
    "    \n",
    "    def __len__(self):\n",
    "        return 1\n",
    "    \n",
    "    def save(self):\n",
    "        dgl.save_graphs(os.path.join(self.save_path, 'karate.dgl'), self.graph)\n",
    "        \n",
    "    def load(self):\n",
    "        (self.graph,), _ = dgl.load_graphs(os.path.join(self.save_path, 'karate.dgl'))"
   ]
  },
  {
   "cell_type": "code",
   "execution_count": 14,
   "metadata": {},
   "outputs": [],
   "source": [
    "dataset = KarateClubDataset()\n",
    "graph = dataset[0]"
   ]
  },
  {
   "cell_type": "markdown",
   "metadata": {},
   "source": [
    "## Creating a Dataset for Link Prediction from CSV"
   ]
  },
  {
   "cell_type": "markdown",
   "metadata": {},
   "source": [
    "## Creating a Dataset for Graph Classification from CSV"
   ]
  },
  {
   "cell_type": "code",
   "execution_count": null,
   "metadata": {},
   "outputs": [],
   "source": []
  }
 ],
 "metadata": {
  "kernelspec": {
   "display_name": "Python 3",
   "language": "python",
   "name": "python3"
  },
  "language_info": {
   "codemirror_mode": {
    "name": "ipython",
    "version": 3
   },
   "file_extension": ".py",
   "mimetype": "text/x-python",
   "name": "python",
   "nbconvert_exporter": "python",
   "pygments_lexer": "ipython3",
   "version": "3.7.4"
  }
 },
 "nbformat": 4,
 "nbformat_minor": 4
}
